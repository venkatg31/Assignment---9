{
 "cells": [
  {
   "cell_type": "markdown",
   "metadata": {},
   "source": [
    " # <center> Assignment - 9\n"
   ]
  },
  {
   "cell_type": "markdown",
   "metadata": {},
   "source": [
    " ###  <center> <b>Task-1"
   ]
  },
  {
   "cell_type": "code",
   "execution_count": 9,
   "metadata": {},
   "outputs": [],
   "source": [
    "import statistics as stat\n",
    "import pandas as pd\n",
    "import numpy as np\n",
    "from math import sqrt\n",
    "import math\n",
    "from scipy.stats import binom"
   ]
  },
  {
   "cell_type": "markdown",
   "metadata": {},
   "source": [
    "<b> 1. You survey households in your area to find the average rent they are paying. Find the standard deviation from the following data: \n",
    "\n",
    "$1550, $1700, $900, $850, $1000, $950. "
   ]
  },
  {
   "cell_type": "code",
   "execution_count": 10,
   "metadata": {},
   "outputs": [
    {
     "name": "stdout",
     "output_type": "stream",
     "text": [
      "Std-Dev  367.99003609699366\n"
     ]
    }
   ],
   "source": [
    "arp = [1550,1700,900,850,1000,950]\n",
    "\n",
    "def find_mean(arp):\n",
    "    return sum(arp)/len(arp)\n",
    "\n",
    "def find_variance(arp):\n",
    "    variance = 0.0\n",
    "    mean = find_mean(arp)\n",
    "    variance = sum((x - mean)**2 for x in arp) / (len(arp)-1)\n",
    "    return variance\n",
    "\n",
    "def find_std_dev(arp):\n",
    "    return sqrt(find_variance(arp))\n",
    "\n",
    "print(\"Std-Dev  \" + str(find_std_dev(arp)))"
   ]
  },
  {
   "cell_type": "markdown",
   "metadata": {},
   "source": [
    "<b> 2. Find the variance for the following set of data representing trees in California (heights in feet):\n",
    "3, 21, 98, 203, 17, 9"
   ]
  },
  {
   "cell_type": "code",
   "execution_count": 11,
   "metadata": {},
   "outputs": [
    {
     "name": "stdout",
     "output_type": "stream",
     "text": [
      "Variance = 6219.9\n"
     ]
    }
   ],
   "source": [
    "var =[3, 21, 98, 203, 17, 9]\n",
    "print(\"Variance = \" + str(stat.variance(var)))"
   ]
  },
  {
   "cell_type": "markdown",
   "metadata": {},
   "source": [
    "<b> 3. In a class on 100 students, 80 students passed in all subjects, 10 failed in one subject, 7 failed\n",
    "in two subjects and 3 failed in three subjects. Find the probability distribution of the variable for\n",
    "number of subjects a student from the given class has failed in."
   ]
  },
  {
   "cell_type": "code",
   "execution_count": 12,
   "metadata": {},
   "outputs": [
    {
     "data": {
      "text/html": [
       "<div>\n",
       "<style scoped>\n",
       "    .dataframe tbody tr th:only-of-type {\n",
       "        vertical-align: middle;\n",
       "    }\n",
       "\n",
       "    .dataframe tbody tr th {\n",
       "        vertical-align: top;\n",
       "    }\n",
       "\n",
       "    .dataframe thead th {\n",
       "        text-align: right;\n",
       "    }\n",
       "</style>\n",
       "<table border=\"1\" class=\"dataframe\">\n",
       "  <thead>\n",
       "    <tr style=\"text-align: right;\">\n",
       "      <th></th>\n",
       "      <th>X</th>\n",
       "      <th>P(X)</th>\n",
       "    </tr>\n",
       "  </thead>\n",
       "  <tbody>\n",
       "    <tr>\n",
       "      <th>1_Subject</th>\n",
       "      <td>10</td>\n",
       "      <td>0.10</td>\n",
       "    </tr>\n",
       "    <tr>\n",
       "      <th>2_Subject</th>\n",
       "      <td>7</td>\n",
       "      <td>0.07</td>\n",
       "    </tr>\n",
       "    <tr>\n",
       "      <th>3_Subject</th>\n",
       "      <td>3</td>\n",
       "      <td>0.03</td>\n",
       "    </tr>\n",
       "  </tbody>\n",
       "</table>\n",
       "</div>"
      ],
      "text/plain": [
       "            X  P(X)\n",
       "1_Subject  10  0.10\n",
       "2_Subject   7  0.07\n",
       "3_Subject   3  0.03"
      ]
     },
     "execution_count": 12,
     "metadata": {},
     "output_type": "execute_result"
    }
   ],
   "source": [
    "matrix_data = [10,7,3]\n",
    "sample_space = 100\n",
    "column_headings = ['X']\n",
    "row_labels = ['1_Subject','2_Subject','3_Subject']\n",
    "data = pd.Series(matrix_data, index=row_labels)\n",
    "df = pd.DataFrame(data=data, columns=column_headings)\n",
    "df['P(X)'] = df.loc[:'X':].sum(axis=1)/sample_space\n",
    "df"
   ]
  },
  {
   "cell_type": "markdown",
   "metadata": {},
   "source": [
    "###   <center> Task - 2"
   ]
  },
  {
   "cell_type": "markdown",
   "metadata": {},
   "source": [
    "<b> 1. A test is conducted which is consisting of 20 MCQs (multiple choices questions) with every\n",
    "MCQ having its four options out of which only one is correct. Determine the probability that a\n",
    "person undertaking that test has answered exactly 5 questions wrong."
   ]
  },
  {
   "cell_type": "code",
   "execution_count": 13,
   "metadata": {},
   "outputs": [
    {
     "name": "stdout",
     "output_type": "stream",
     "text": [
      "The probability that a person undertaking that test has answered exactly 5 questions wrong is: 0.00000343\n"
     ]
    }
   ],
   "source": [
    "x=5\n",
    "n=20\n",
    "p=(3/4)\n",
    "probs=binom.pmf(x,n,p)\n",
    "print('The probability that a person undertaking that test has answered exactly 5 questions wrong is: %.8f' % (probs))"
   ]
  },
  {
   "cell_type": "markdown",
   "metadata": {},
   "source": [
    "<b> 2. A die marked A to E is rolled 50 times. Find the probability of getting a “D” exactly 5 times."
   ]
  },
  {
   "cell_type": "code",
   "execution_count": 14,
   "metadata": {},
   "outputs": [
    {
     "name": "stdout",
     "output_type": "stream",
     "text": [
      "The Probability of Getting “D” Exactly 5 Times is: 0.02953120\n"
     ]
    }
   ],
   "source": [
    "x=5\n",
    "n=50\n",
    "p=(1/5)\n",
    "\n",
    "# P(x) = n! / x!(n-x)! * (p**x) * (1-p)**(n-x)\n",
    "prob = (math.factorial(n)/(math.factorial(x)*math.factorial(n-x)))*(p**x)*((1-p)**(n-x))\n",
    "print('The Probability of Getting “D” Exactly 5 Times is: %.8f' % (prob))"
   ]
  },
  {
   "cell_type": "markdown",
   "metadata": {},
   "source": [
    "<b> 3. Two balls are drawn at random in succession without replacement from an urn containing 4\n",
    "red balls and 6 black balls.\n",
    "Find the probabilities of all the possible outcomes."
   ]
  },
  {
   "cell_type": "code",
   "execution_count": 15,
   "metadata": {},
   "outputs": [
    {
     "name": "stdout",
     "output_type": "stream",
     "text": [
      "Probability of both balls are red:  0.13\n",
      "Probability of both balls are black:  0.33\n",
      "Probability of one is black and one is red:  0.53\n"
     ]
    }
   ],
   "source": [
    "# n = 10\n",
    "# k = 2\n",
    "\n",
    "def combination(p,q):\n",
    "    return math.factorial(p)/(math.factorial(q)*math.factorial(p-q))\n",
    "\n",
    "#All possible outcomes: RR, BB, RB or BR\n",
    "RR = combination(4,2)*combination(6,0)/combination(10,2)\n",
    "print(\"Probability of both balls are red: \",round(RR,2))\n",
    "\n",
    "BB = combination(6,2)*combination(4,0)/combination(10,2) \n",
    "print(\"Probability of both balls are black: \",round(BB,2))\n",
    "\n",
    "BR = combination(6,1)*combination(4,1)/combination(10,2) \n",
    "print(\"Probability of one is black and one is red: \",round(BR,2))"
   ]
  }
 ],
 "metadata": {
  "kernelspec": {
   "display_name": "Python 3",
   "language": "python",
   "name": "python3"
  },
  "language_info": {
   "codemirror_mode": {
    "name": "ipython",
    "version": 3
   },
   "file_extension": ".py",
   "mimetype": "text/x-python",
   "name": "python",
   "nbconvert_exporter": "python",
   "pygments_lexer": "ipython3",
   "version": "3.7.0"
  }
 },
 "nbformat": 4,
 "nbformat_minor": 2
}
